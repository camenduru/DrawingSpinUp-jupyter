{
  "cells": [
    {
      "cell_type": "markdown",
      "metadata": {
        "id": "view-in-github"
      },
      "source": [
        "[![Open In Colab](https://colab.research.google.com/assets/colab-badge.svg)](https://colab.research.google.com/github/camenduru/DrawingSpinUp-jupyter/blob/main/DrawingSpinUp_jupyter.ipynb)"
      ]
    },
    {
      "cell_type": "code",
      "execution_count": null,
      "metadata": {
        "id": "VjYy0F2gZIPR"
      },
      "outputs": [],
      "source": [
        "%cd /content\n",
        "!apt install xvfb\n",
        "!pip install opencv-python openexr pyyaml\n",
        "!git clone https://github.com/cprogrammer1994/python-mesh-raycast\n",
        "%cd /content/python-mesh-raycast\n",
        "!python setup.py develop\n",
        "!pip install git+https://github.com/NVlabs/tiny-cuda-nn/#subdirectory=bindings/torch\n",
        "%cd /content\n",
        "!git clone https://github.com/LordLiang/DrawingSpinUp\n",
        "%cd /content/DrawingSpinUp\n",
        "!wget https://download.blender.org/release/Blender3.3/blender-3.3.1-linux-x64.tar.xz\n",
        "!tar -xvf blender-3.3.1-linux-x64.tar.xz\n",
        "!wget https://bootstrap.pypa.io/get-pip.py\n",
        "!./blender-3.3.1-linux-x64/3.3/python/bin/python3.10 get-pip.py\n",
        "!./blender-3.3.1-linux-x64/3.3/python/bin/python3.10 -m pip install trimesh\n",
        "%cd /content/DrawingSpinUp/dataset/AnimatedDrawings\n",
        "!wget https://huggingface.co/camenduru/DrawingSpinUp/resolve/main/preprocessed.zip -O /content/DrawingSpinUp/dataset/AnimatedDrawings/preprocessed.zip\n",
        "!unzip preprocessed.zip\n",
        "%cd /content/DrawingSpinUp/3_style_translator\n",
        "%env DISPLAY=:1\n",
        "\n",
        "# !xvfb-run python run_render.py --uid ff7ab74a67a443e3bda61e69577f4e80\n",
        "# !xvfb-run python train_stage1.py --uid ff7ab74a67a443e3bda61e69577f4e80\n",
        "# !xvfb-run python train_stage2.py --uid ff7ab74a67a443e3bda61e69577f4e80\n",
        "# !xvfb-run python run_render.py --uid ff7ab74a67a443e3bda61e69577f4e80 --test\n",
        "# !xvfb-run python test_stage1.py --uid ff7ab74a67a443e3bda61e69577f4e80\n",
        "# !xvfb-run python test_stage2.py --uid ff7ab74a67a443e3bda61e69577f4e80\n",
        "# !xvfb-run python gif_writer.py --uid ff7ab74a67a443e3bda61e69577f4e80\n",
        "\n",
        "# !xvfb-run python mv.py --uid ff7ab74a67a443e3bda61e69577f4e80\n",
        "# !xvfb-run python recon.py --uid ff7ab74a67a443e3bda61e69577f4e80"
      ]
    },
    {
      "cell_type": "code",
      "execution_count": null,
      "metadata": {},
      "outputs": [],
      "source": [
        "!xvfb-run python run_render.py --uid ff7ab74a67a443e3bda61e69577f4e80 --test"
      ]
    }
  ],
  "metadata": {
    "accelerator": "GPU",
    "colab": {
      "gpuType": "T4",
      "provenance": []
    },
    "kernelspec": {
      "display_name": "Python 3",
      "name": "python3"
    },
    "language_info": {
      "name": "python"
    }
  },
  "nbformat": 4,
  "nbformat_minor": 0
}

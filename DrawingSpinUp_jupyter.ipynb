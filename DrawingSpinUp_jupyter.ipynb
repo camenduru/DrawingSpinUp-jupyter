{
  "cells": [
    {
      "cell_type": "markdown",
      "metadata": {
        "id": "view-in-github"
      },
      "source": [
        "[![Open In Colab](https://colab.research.google.com/assets/colab-badge.svg)](https://colab.research.google.com/github/camenduru/DrawingSpinUp-jupyter/blob/main/DrawingSpinUp_jupyter.ipynb)"
      ]
    },
    {
      "cell_type": "code",
      "execution_count": null,
      "metadata": {
        "id": "VjYy0F2gZIPR"
      },
      "outputs": [],
      "source": [
        "%cd /content\n",
        "!apt install xvfb\n",
        "!mkdir /content/pytorch3d\n",
        "%cd /content/pytorch3d\n",
        "!pip wheel -v git+https://github.com/facebookresearch/pytorch3d\n",
        "!pip install /content/pytorch3d/pytorch3d-0.7.8-cp310-cp310-linux_x86_64.whl\n",
        "\n",
        "!pip install opencv-python openexr pyyaml einops omegaconf onnxruntime accelerate diffusers[torch]==0.19.3 transformers==4.25.1 pytorch_lightning==1.9.5 nerfacc==0.3.3 trimesh==3.9.8 scikit-learn\n",
        "!pip install libigl scikit-image pymcubes numpy==1.26.4 open3d\n",
        "\n",
        "!git clone https://github.com/cprogrammer1994/python-mesh-raycast\n",
        "%cd /content/python-mesh-raycast\n",
        "!python setup.py develop\n",
        "# !pip install git+https://github.com/NVlabs/tiny-cuda-nn/#subdirectory=bindings/torch\n",
        "!pip install https://github.com/camenduru/wheels/releases/download/colab2/tinycudann-1.7-cp310-cp310-linux_x86_64.whl\n",
        "%cd /content\n",
        "!git clone https://github.com/LordLiang/DrawingSpinUp\n",
        "%cd /content/DrawingSpinUp\n",
        "!wget https://download.blender.org/release/Blender3.3/blender-3.3.1-linux-x64.tar.xz\n",
        "!tar -xvf blender-3.3.1-linux-x64.tar.xz\n",
        "!wget https://bootstrap.pypa.io/get-pip.py\n",
        "!./blender-3.3.1-linux-x64/3.3/python/bin/python3.10 get-pip.py\n",
        "!./blender-3.3.1-linux-x64/3.3/python/bin/python3.10 -m pip install trimesh\n",
        "%cd /content/DrawingSpinUp/dataset/AnimatedDrawings\n",
        "!wget https://huggingface.co/camenduru/DrawingSpinUp/resolve/main/preprocessed.zip -O /content/DrawingSpinUp/dataset/AnimatedDrawings/preprocessed.zip\n",
        "!unzip preprocessed.zip\n",
        "%cd /content/DrawingSpinUp/3_style_translator\n",
        "%env DISPLAY=:1\n",
        "\n",
        "# !xvfb-run python run_render.py --uid ff7ab74a67a443e3bda61e69577f4e80\n",
        "# !xvfb-run python train_stage1.py --uid ff7ab74a67a443e3bda61e69577f4e80\n",
        "# !xvfb-run python train_stage2.py --uid ff7ab74a67a443e3bda61e69577f4e80\n",
        "# !xvfb-run python run_render.py --uid ff7ab74a67a443e3bda61e69577f4e80 --test\n",
        "# !xvfb-run python test_stage1.py --uid ff7ab74a67a443e3bda61e69577f4e80\n",
        "# !xvfb-run python test_stage2.py --uid ff7ab74a67a443e3bda61e69577f4e80\n",
        "# !xvfb-run python gif_writer.py --uid ff7ab74a67a443e3bda61e69577f4e80\n",
        "\n",
        "%cd /content/DrawingSpinUp/2_charactor_reconstructor\n",
        "!mkdir /content/DrawingSpinUp/2_charactor_reconstructor/dis_pretrained\n",
        "%cd /content/DrawingSpinUp/2_charactor_reconstructor/dis_pretrained\n",
        "!wget https://huggingface.co/stoned0651/isnet_dis.onnx/resolve/main/isnet_dis.onnx -O /content/DrawingSpinUp/2_charactor_reconstructor/dis_pretrained/isnet_dis.onnx\n",
        "\n",
        "import os\n",
        "os.environ['PATH'] += ':/usr/local/cuda/bin'\n",
        "!nvcc --version"
      ]
    },
    {
      "cell_type": "code",
      "execution_count": null,
      "metadata": {},
      "outputs": [],
      "source": [
        "%cd /content/DrawingSpinUp/2_charactor_reconstructor\n",
        "!xvfb-run python mv.py --uid ff7ab74a67a443e3bda61e69577f4e81\n",
        "!xvfb-run python recon.py --uid ff7ab74a67a443e3bda61e69577f4e81"
      ]
    }
  ],
  "metadata": {
    "accelerator": "GPU",
    "colab": {
      "gpuType": "T4",
      "provenance": []
    },
    "kernelspec": {
      "display_name": "Python 3",
      "name": "python3"
    },
    "language_info": {
      "name": "python"
    }
  },
  "nbformat": 4,
  "nbformat_minor": 0
}
